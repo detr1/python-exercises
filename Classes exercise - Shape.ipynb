{
 "cells": [
  {
   "cell_type": "markdown",
   "metadata": {},
   "source": [
    "Exercice programmation orienté objet\n",
    "Write a superclass called Shape (as shown in the class diagram), which contains:\n",
    "\n",
    "Two instance variables color (String) and filled (boolean).\n",
    "Constructor: initializes the color and filled to the given values. Green and filled=True are the defaults\n",
    "A to_string() method that returns \"A Shape with color of xxx and filled/Not filled\".\n",
    "\n",
    "Write two subclasses of Shape called Circle and Rectangle, as shown in the class diagram.\n",
    "\n",
    "The Circle class contains:\n",
    "\n",
    "An instance variable radius\n",
    "A constructor which has radius as parameter, default should be 1.0.\n",
    "Methods get_area() and get_perimeter().\n",
    "Override the toString() method inherited, to return \"A Circle with radius=xxx, which is a subclass of yyy\", where yyy is the output of the to_string() method from the superclass.\n",
    "\n",
    "The Rectangle class contains:\n",
    "Two instance variables width (double) and length (double).\n",
    "Constructor with width and length, defaults are both 1\n",
    "Methods get_area() and get_perimeter().\n",
    "Override the to_string() method inherited, to return \"A Rectangle with width=xxx and length=zzz, which is a subclass of yyy\", where yyy is the output of the to_string() method from the superclass.\n",
    "\n",
    "Write a class called Square, as a subclass of Rectangle. Convince yourself that Square can be modeled as a subclass of Rectangle. Square has no instance variable, but inherits the instance variables width and length from its superclass Rectangle."
   ]
  },
  {
   "cell_type": "code",
   "execution_count": 23,
   "metadata": {},
   "outputs": [],
   "source": [
    "import math"
   ]
  },
  {
   "cell_type": "code",
   "execution_count": 28,
   "metadata": {},
   "outputs": [],
   "source": [
    "class Shape():\n",
    "    def __init__(self, color=None, filled=None):\n",
    "        if color is None:\n",
    "            self.color = 'green'\n",
    "        else:\n",
    "            self.color = color\n",
    "            \n",
    "        if filled is None:\n",
    "            self.filled = True\n",
    "        else:\n",
    "            self.filled = filled\n",
    "            \n",
    "    def to_string(self):\n",
    "        if self.filled:\n",
    "            fs = \"filled\"\n",
    "        else:\n",
    "            fs = \"not filled\"\n",
    "        return f\"A shape with color of {self.color} and {fs}\"\n",
    "\n"
   ]
  },
  {
   "cell_type": "code",
   "execution_count": 29,
   "metadata": {},
   "outputs": [
    {
     "data": {
      "text/plain": [
       "'A shape with color of green and filled'"
      ]
     },
     "execution_count": 29,
     "metadata": {},
     "output_type": "execute_result"
    }
   ],
   "source": [
    "Shape().to_string()"
   ]
  },
  {
   "cell_type": "code",
   "execution_count": 30,
   "metadata": {},
   "outputs": [],
   "source": [
    "class Circle(Shape):\n",
    "    def __init__(self, color=None, filled=None, radius=1.0):\n",
    "        super().__init__(color, filled)\n",
    "        self.radius = radius\n",
    "        \n",
    "    def get_area(self):\n",
    "        return math.pi * self.radius ** 2 \n",
    "    \n",
    "    def to_string(self):\n",
    "        new_msg = f\"A circle with radius {self.radius}, which is a subclass of {super().to_string()}\"\n",
    "        return new_msg\n",
    "    "
   ]
  },
  {
   "cell_type": "code",
   "execution_count": 31,
   "metadata": {},
   "outputs": [
    {
     "data": {
      "text/plain": [
       "'A circle with radius 1.0, which is a subclass of A shape with color of green and filled'"
      ]
     },
     "execution_count": 31,
     "metadata": {},
     "output_type": "execute_result"
    }
   ],
   "source": [
    "Circle().to_string()"
   ]
  },
  {
   "cell_type": "code",
   "execution_count": 32,
   "metadata": {},
   "outputs": [],
   "source": [
    "class Rectangle(Shape):\n",
    "    def __init__(self, color=None, filled=None, width=1.0, length=1.0):\n",
    "        super().__init__(color, filled)\n",
    "        self.width = width\n",
    "        self.length = length\n",
    "        \n",
    "    def get_area(self):\n",
    "        return self.width * self.length\n",
    "    \n",
    "    def to_string(self):\n",
    "        new_msg = f\"A rectangle with width {self.width} and length {self.length}, which is a subclass of {super().to_string()}\"\n",
    "        return new_msg"
   ]
  },
  {
   "cell_type": "code",
   "execution_count": 35,
   "metadata": {},
   "outputs": [
    {
     "data": {
      "text/plain": [
       "'A rectangle with width 1.0 and length 1.0, which is a subclass of A shape with color of green and filled'"
      ]
     },
     "execution_count": 35,
     "metadata": {},
     "output_type": "execute_result"
    }
   ],
   "source": [
    "Rectangle().to_string()"
   ]
  },
  {
   "cell_type": "code",
   "execution_count": 36,
   "metadata": {},
   "outputs": [],
   "source": [
    "class Square(Rectangle):\n",
    "    def __init__(self, color=None, filled=None, length=1.0):\n",
    "        super().__init__(color, filled, length, length)"
   ]
  },
  {
   "cell_type": "code",
   "execution_count": 37,
   "metadata": {},
   "outputs": [],
   "source": [
    "a = Square(length=4)"
   ]
  },
  {
   "cell_type": "code",
   "execution_count": 38,
   "metadata": {},
   "outputs": [
    {
     "data": {
      "text/plain": [
       "'A rectangle with width 4 and length 4, which is a subclass of A shape with color of green and filled'"
      ]
     },
     "execution_count": 38,
     "metadata": {},
     "output_type": "execute_result"
    }
   ],
   "source": [
    "a.to_string()"
   ]
  },
  {
   "cell_type": "code",
   "execution_count": null,
   "metadata": {},
   "outputs": [],
   "source": []
  }
 ],
 "metadata": {
  "kernelspec": {
   "display_name": "Python 3",
   "language": "python",
   "name": "python3"
  },
  "language_info": {
   "codemirror_mode": {
    "name": "ipython",
    "version": 3
   },
   "file_extension": ".py",
   "mimetype": "text/x-python",
   "name": "python",
   "nbconvert_exporter": "python",
   "pygments_lexer": "ipython3",
   "version": "3.7.6"
  }
 },
 "nbformat": 4,
 "nbformat_minor": 4
}
